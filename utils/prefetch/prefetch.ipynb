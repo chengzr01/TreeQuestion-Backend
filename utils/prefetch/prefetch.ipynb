{
 "cells": [
  {
   "cell_type": "code",
   "execution_count": null,
   "metadata": {},
   "outputs": [],
   "source": [
    "import os\n",
    "import json\n",
    "import requests\n",
    "import pandas as pd"
   ]
  },
  {
   "cell_type": "code",
   "execution_count": null,
   "metadata": {},
   "outputs": [],
   "source": [
    "result = requests.post(\n",
    "        url=\"http://18.206.229.27:8000/tree/create_knowledge_component\",\n",
    "        data=json.dumps({\n",
    "            \"concept\": \"Oligopoly\",\n",
    "            \"field\": \"Microeconomics\",\n",
    "            \"level\": \"Remember\",\n",
    "            \"cache\": \"true\"\n",
    "        }))\n",
    "knowledge_text = json.loads(result.text)[\"data\"][\"knowledge\"]"
   ]
  },
  {
   "cell_type": "code",
   "execution_count": null,
   "metadata": {},
   "outputs": [],
   "source": [
    "source = pd.read_csv(\"./source.csv\")\n",
    "level = [\"remember\", \"understand\", \"apply\", \"analyze\", \"evaluate\", \"create\"]"
   ]
  }
 ],
 "metadata": {
  "kernelspec": {
   "display_name": "base",
   "language": "python",
   "name": "python3"
  },
  "language_info": {
   "codemirror_mode": {
    "name": "ipython",
    "version": 3
   },
   "file_extension": ".py",
   "mimetype": "text/x-python",
   "name": "python",
   "nbconvert_exporter": "python",
   "pygments_lexer": "ipython3",
   "version": "3.8.8"
  },
  "orig_nbformat": 4
 },
 "nbformat": 4,
 "nbformat_minor": 2
}
