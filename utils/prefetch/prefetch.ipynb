{
 "cells": [
  {
   "cell_type": "code",
   "execution_count": 1,
   "metadata": {},
   "outputs": [],
   "source": [
    "import os\n",
    "import json\n",
    "import requests\n",
    "import pandas as pd"
   ]
  },
  {
   "cell_type": "code",
   "execution_count": 3,
   "metadata": {},
   "outputs": [],
   "source": [
    "concept_list = [\"Symmetric Encryption\"]\n",
    "field = \"Cybersecurity\"\n",
    "level_list = [\"Remember\", \"Understand\", \"Apply\", \"Analyze\", \"Evaluate\", \"Create\"]\n",
    "concept = concept_list[0]\n",
    "level = level_list[0]"
   ]
  },
  {
   "cell_type": "code",
   "execution_count": 4,
   "metadata": {},
   "outputs": [],
   "source": [
    "# step 1: prefetch knowledge component\n",
    "knowledge_result = requests.post(\n",
    "        url=\"http://18.206.229.27:8000/tree/create_knowledge_component\",\n",
    "        data=json.dumps({\n",
    "            \"concept\": concept,\n",
    "            \"field\": field,\n",
    "            \"level\": level,\n",
    "            \"cache\": \"true\"\n",
    "        }))\n",
    "knowledge_text = json.loads(knowledge_result.text)[\"data\"][\"knowledge\"]"
   ]
  },
  {
   "cell_type": "code",
   "execution_count": 7,
   "metadata": {},
   "outputs": [
    {
     "name": "stdout",
     "output_type": "stream",
     "text": [
      "[{'source': 'Symmetric encryption', 'target': 'Encryption', 'relation': 'Type of'}, {'source': 'Symmetric encryption', 'target': 'Key', 'relation': 'Used for'}, {'source': 'Symmetric encryption', 'target': 'Data', 'relation': 'Encrypted and decrypted'}, {'source': 'Symmetric encryption', 'target': 'DES', 'relation': 'Type of algorithm'}, {'source': 'Symmetric encryption', 'target': 'AES', 'relation': 'Type of algorithm'}, {'source': 'Symmetric encryption', 'target': 'Blowfish', 'relation': 'Type of algorithm'}, {'source': 'Symmetric encryption', 'target': 'RC4', 'relation': 'Type of algorithm'}, {'source': 'Symmetric encryption', 'target': 'Cybersecurity', 'relation': 'Purpose in'}, {'source': 'Key', 'target': 'Sender and receiver', 'relation': 'Shared between'}, {'source': 'Symmetric encryption', 'target': 'Speed and efficiency', 'relation': 'Advantages of'}, {'source': 'Symmetric encryption', 'target': 'Secure key distribution', 'relation': 'Disadvantages of'}, {'source': 'Symmetric encryption', 'target': 'Potential for key compromise', 'relation': 'Disadvantages of'}]\n"
     ]
    }
   ],
   "source": [
    "# step 2: prefetch knowledge graph\n",
    "graph_result = requests.post(\n",
    "        url=\"http://18.206.229.27:8000/tree/create_knowledge_graph\",\n",
    "        data=json.dumps({\n",
    "            \"concepts\": [concept],\n",
    "            \"field\": field,\n",
    "            \"knowledge\": knowledge_text,\n",
    "            \"cache\": \"true\"\n",
    "        }))\n",
    "graph_text = json.loads(graph_result.text)[\"data\"][\"graph\"]"
   ]
  },
  {
   "cell_type": "code",
   "execution_count": 12,
   "metadata": {},
   "outputs": [],
   "source": [
    "# step 3: prefetch key statement\n",
    "key_candidates = []\n",
    "for relation in graph_text:\n",
    "    key_result = requests.post(\n",
    "        url=\"http://18.206.229.27:8000/tree/create_key_statement\",\n",
    "        data=json.dumps({\n",
    "            \"source\": relation[\"source\"],\n",
    "            \"target\": relation[\"target\"],\n",
    "            \"label\": relation[\"relation\"],\n",
    "            \"cache\": \"true\"\n",
    "        }))\n",
    "    key_text = json.loads(key_result.text)[\"data\"][\"key\"]\n",
    "    key_candidates.append(key_text)"
   ]
  },
  {
   "cell_type": "code",
   "execution_count": 14,
   "metadata": {},
   "outputs": [],
   "source": [
    "# step 4: prefetch distractor statement\n",
    "distractor_candidates = []\n",
    "template = \"According to the question, [restate the concepts being mentioned in the prompt] + [object] + is + [concept content] + Examples of + [object] + are + [example 1] + [example 2] + [example 3].\"\n",
    "for relation in graph_text:\n",
    "    distractor_result = requests.post(\n",
    "        url=\"http://18.206.229.27:8000/tree/create_distractor_statement\",\n",
    "        data=json.dumps({\n",
    "            \"source\": relation[\"source\"],\n",
    "            \"target\": relation[\"target\"],\n",
    "            \"label\": relation[\"relation\"],\n",
    "            \"template\": template,\n",
    "            \"cache\": \"true\"\n",
    "        }))\n",
    "    distractor_list = json.loads(distractor_result.text)[\"data\"][\"distractors\"]\n",
    "    for distractor in distractor_list:\n",
    "        distractor_candidates.append(distractor)"
   ]
  }
 ],
 "metadata": {
  "kernelspec": {
   "display_name": "base",
   "language": "python",
   "name": "python3"
  },
  "language_info": {
   "codemirror_mode": {
    "name": "ipython",
    "version": 3
   },
   "file_extension": ".py",
   "mimetype": "text/x-python",
   "name": "python",
   "nbconvert_exporter": "python",
   "pygments_lexer": "ipython3",
   "version": "3.8.8"
  },
  "orig_nbformat": 4
 },
 "nbformat": 4,
 "nbformat_minor": 2
}
