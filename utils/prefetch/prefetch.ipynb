{
 "cells": [
  {
   "cell_type": "code",
   "execution_count": 1,
   "metadata": {},
   "outputs": [],
   "source": [
    "import os\n",
    "import json\n",
    "import requests\n",
    "import pandas as pd"
   ]
  },
  {
   "cell_type": "code",
   "execution_count": null,
   "metadata": {},
   "outputs": [],
   "source": [
    "result = requests.post(\n",
    "        url=\"http://127.0.0.1:8000/tree/create_knowledge_component\",\n",
    "        data=json.dumps({\n",
    "            \"concept\": \"Oligopoly\",\n",
    "            \"field\": \"Microeconomics\",\n",
    "            \"level\": \"Remember\"\n",
    "        }))\n",
    "knowledge_text = json.loads(result.text)[\"data\"][\"knowledge\"]"
   ]
  },
  {
   "cell_type": "code",
   "execution_count": 3,
   "metadata": {},
   "outputs": [
    {
     "name": "stdout",
     "output_type": "stream",
     "text": [
      "                       concept            field\n",
      "0         symmetric encryption    cybersecurity\n",
      "1        asymmetric encryption    cybersecurity\n",
      "2            digital signature    cybersecurity\n",
      "3                hash function    cybersecurity\n",
      "4       network access control    cybersecurity\n",
      "5                 secure shell    cybersecurity\n",
      "6          secure socket layer    cybersecurity\n",
      "7     transport layer security    cybersecurity\n",
      "8                  primary key  database system\n",
      "9                  foreign key  database system\n",
      "10    data-definition language  database system\n",
      "11  data-manipulation language  database system\n",
      "12       integrity constraints  database system\n",
      "13          domain constraints  database system\n",
      "14           unique constraint  database system\n",
      "15            producer surplus   microeconomics\n",
      "16            consumer surplus   microeconomics\n",
      "17                   oligopoly   microeconomics\n",
      "18                    monopoly   microeconomics\n",
      "19              budget surplus   macroeconomics\n",
      "20              budget deficit   macroeconomics\n",
      "21          firm-specific risk   macroeconomics\n",
      "22                 market risk   macroeconomics\n",
      "23              sensory memory       psychology\n",
      "24              working memory       psychology\n",
      "25            long-term memory       psychology\n",
      "26        intrinsic motivation       psychology\n",
      "27        extrinsic motivation       psychology\n",
      "28  somatic symptiom disorders       psychology\n",
      "29           bipolar disorders       psychology\n",
      "30               schizophrenia       psychology\n"
     ]
    }
   ],
   "source": [
    "source = pd.read_csv(\"./source.csv\")\n",
    "level = [\"remember\", \"understand\", \"apply\", \"analyze\", \"evaluate\", \"create\"]"
   ]
  }
 ],
 "metadata": {
  "kernelspec": {
   "display_name": "base",
   "language": "python",
   "name": "python3"
  },
  "language_info": {
   "codemirror_mode": {
    "name": "ipython",
    "version": 3
   },
   "file_extension": ".py",
   "mimetype": "text/x-python",
   "name": "python",
   "nbconvert_exporter": "python",
   "pygments_lexer": "ipython3",
   "version": "3.8.8"
  },
  "orig_nbformat": 4
 },
 "nbformat": 4,
 "nbformat_minor": 2
}
